{
 "cells": [
  {
   "cell_type": "code",
   "execution_count": 1,
   "id": "a2a6228c-8941-4b8f-8d1e-739b9c443e52",
   "metadata": {
    "tags": []
   },
   "outputs": [
    {
     "ename": "ModuleNotFoundError",
     "evalue": "No module named 'nest'",
     "output_type": "error",
     "traceback": [
      "\u001b[0;31m---------------------------------------------------------------------------\u001b[0m",
      "\u001b[0;31mModuleNotFoundError\u001b[0m                       Traceback (most recent call last)",
      "Cell \u001b[0;32mIn[1], line 3\u001b[0m\n\u001b[1;32m      1\u001b[0m \u001b[38;5;28;01mimport\u001b[39;00m \u001b[38;5;21;01mnumpy\u001b[39;00m \u001b[38;5;28;01mas\u001b[39;00m \u001b[38;5;21;01mnp\u001b[39;00m\n\u001b[1;32m      2\u001b[0m \u001b[38;5;28;01mimport\u001b[39;00m \u001b[38;5;21;01mmatplotlib\u001b[39;00m\u001b[38;5;21;01m.\u001b[39;00m\u001b[38;5;21;01mpyplot\u001b[39;00m \u001b[38;5;28;01mas\u001b[39;00m \u001b[38;5;21;01mplt\u001b[39;00m\n\u001b[0;32m----> 3\u001b[0m \u001b[38;5;28;01mimport\u001b[39;00m \u001b[38;5;21;01mpyNN\u001b[39;00m\u001b[38;5;21;01m.\u001b[39;00m\u001b[38;5;21;01mnest\u001b[39;00m \u001b[38;5;28;01mas\u001b[39;00m \u001b[38;5;21;01msim\u001b[39;00m\n\u001b[1;32m      5\u001b[0m \u001b[38;5;66;03m# Simulation setup\u001b[39;00m\n\u001b[1;32m      6\u001b[0m sim\u001b[38;5;241m.\u001b[39msetup(timestep\u001b[38;5;241m=\u001b[39m\u001b[38;5;241m0.1\u001b[39m)  \n",
      "File \u001b[0;32m~/anaconda3/lib/python3.11/site-packages/pyNN/nest/__init__.py:19\u001b[0m\n\u001b[1;32m     17\u001b[0m \u001b[38;5;28;01mfrom\u001b[39;00m \u001b[38;5;21;01m.\u001b[39;00m\u001b[38;5;21;01m.\u001b[39;00m\u001b[38;5;21;01mstandardmodels\u001b[39;00m \u001b[38;5;28;01mimport\u001b[39;00m StandardCellType\n\u001b[1;32m     18\u001b[0m \u001b[38;5;28;01mfrom\u001b[39;00m \u001b[38;5;21;01m.\u001b[39;00m\u001b[38;5;21;01m.\u001b[39;00m\u001b[38;5;21;01mrandom\u001b[39;00m \u001b[38;5;28;01mimport\u001b[39;00m NumpyRNG, GSLRNG, RandomDistribution           \u001b[38;5;66;03m# noqa: F401\u001b[39;00m\n\u001b[0;32m---> 19\u001b[0m \u001b[38;5;28;01mfrom\u001b[39;00m \u001b[38;5;21;01m.\u001b[39;00m\u001b[38;5;21;01mcells\u001b[39;00m \u001b[38;5;28;01mimport\u001b[39;00m NativeCellType, native_cell_type                 \u001b[38;5;66;03m# noqa: F401\u001b[39;00m\n\u001b[1;32m     20\u001b[0m \u001b[38;5;28;01mfrom\u001b[39;00m \u001b[38;5;21;01m.\u001b[39;00m\u001b[38;5;21;01melectrodes\u001b[39;00m \u001b[38;5;28;01mimport\u001b[39;00m NativeElectrodeType, native_electrode_type  \u001b[38;5;66;03m# noqa: F401\u001b[39;00m\n\u001b[1;32m     21\u001b[0m \u001b[38;5;28;01mfrom\u001b[39;00m \u001b[38;5;21;01m.\u001b[39;00m\u001b[38;5;21;01msynapses\u001b[39;00m \u001b[38;5;28;01mimport\u001b[39;00m NativeSynapseType, native_synapse_type        \u001b[38;5;66;03m# noqa: F401\u001b[39;00m\n",
      "File \u001b[0;32m~/anaconda3/lib/python3.11/site-packages/pyNN/nest/cells.py:11\u001b[0m\n\u001b[1;32m      9\u001b[0m \u001b[38;5;28;01mimport\u001b[39;00m \u001b[38;5;21;01mwarnings\u001b[39;00m\n\u001b[1;32m     10\u001b[0m \u001b[38;5;28;01mimport\u001b[39;00m \u001b[38;5;21;01mnumpy\u001b[39;00m \u001b[38;5;28;01mas\u001b[39;00m \u001b[38;5;21;01mnp\u001b[39;00m\n\u001b[0;32m---> 11\u001b[0m \u001b[38;5;28;01mimport\u001b[39;00m \u001b[38;5;21;01mnest\u001b[39;00m\n\u001b[1;32m     12\u001b[0m \u001b[38;5;28;01mfrom\u001b[39;00m \u001b[38;5;21;01m.\u001b[39;00m\u001b[38;5;21;01m.\u001b[39;00m\u001b[38;5;21;01mmodels\u001b[39;00m \u001b[38;5;28;01mimport\u001b[39;00m BaseCellType\n\u001b[1;32m     13\u001b[0m \u001b[38;5;28;01mfrom\u001b[39;00m \u001b[38;5;21;01m.\u001b[39;00m\u001b[38;5;21;01m.\u001b[39;00m\u001b[38;5;21;01mparameters\u001b[39;00m \u001b[38;5;28;01mimport\u001b[39;00m Sequence\n",
      "\u001b[0;31mModuleNotFoundError\u001b[0m: No module named 'nest'"
     ]
    }
   ],
   "source": [
    "import numpy as np\n",
    "import matplotlib.pyplot as plt\n",
    "import pyNN.nest as sim\n",
    "\n",
    "# Simulation setup\n",
    "sim.setup(timestep=0.1)  \n",
    "\n",
    "# Neuron parameters\n",
    "tau_exc = 20.0  # Excitatory neuron time constant (ms)\n",
    "tau_inh = 10.0  # Inhibitory neuron time constant (ms)\n",
    "exc_rest = -65.0  # Resting membrane potential (mV)\n",
    "inh_rest = -65.0  # Resting membrane potential (mV)\n",
    "exc_thresh = -50.0  # Spike threshold (mV)\n",
    "inh_thresh = -50.0  # Spike threshold (mV)\n",
    "\n",
    "# Create populations of excitatory and inhibitory neurons\n",
    "num_exc_neurons = 1\n",
    "num_inh_neurons = 1\n",
    "exc_neurons = sim.Population(num_exc_neurons, sim.IF_cond_exp(tau_syn_E=tau_exc),\n",
    "                             label=\"Excitatory neurons\")\n",
    "inh_neurons = sim.Population(num_inh_neurons, sim.IF_cond_exp(tau_syn_E=tau_inh),\n",
    "                             label=\"Inhibitory neurons\")\n",
    "\n",
    "# Record membrane potentials\n",
    "exc_neurons.record(['v'])\n",
    "inh_neurons.record(['v'])\n",
    "\n",
    "# Define input currents (for simplicity, assume constant current)\n",
    "exc_input_current = 10.0  # Example input current for excitatory neurons (nA)\n",
    "inh_input_current = 5.0   # Example input current for inhibitory neurons (nA)\n",
    "\n",
    "# Run simulation\n",
    "simtime = 100.0  # Simulation time (ms)\n",
    "for t in np.arange(0, simtime, sim.dt):\n",
    "    # Calculate input currents based on firing rates (simplified model)\n",
    "    exc_input = exc_input_current\n",
    "    inh_input = inh_input_current\n",
    "\n",
    "    # Update membrane potentials of neurons (simplified model)\n",
    "    exc_neurons.set(v=exc_input)\n",
    "    inh_neurons.set(v=inh_input)\n",
    "\n",
    "    # Advance simulation by one time step\n",
    "    sim.run(sim.dt)\n",
    "\n",
    "# Retrieve membrane potentials\n",
    "exc_v = exc_neurons.get_data().segments[0].analogsignals[0]\n",
    "inh_v = inh_neurons.get_data().segments[0].analogsignals[0]\n",
    "\n",
    "# Plot membrane potentials\n",
    "plt.figure(figsize=(10, 6))\n",
    "plt.plot(exc_v.times, exc_v, label='Excitatory Neuron')\n",
    "plt.plot(inh_v.times, inh_v, label='Inhibitory Neuron')\n",
    "plt.xlabel('Time (ms)')\n",
    "plt.ylabel('Membrane Potential (mV)')\n",
    "plt.title('Membrane Potential Dynamics')\n",
    "plt.legend()\n",
    "plt.show()\n",
    "\n",
    "# End simulation\n",
    "sim.end()\n"
   ]
  },
  {
   "cell_type": "code",
   "execution_count": 2,
   "id": "a27deee1-5667-46e4-bdf3-c9b5bb3a327e",
   "metadata": {
    "tags": []
   },
   "outputs": [
    {
     "ename": "ModuleNotFoundError",
     "evalue": "No module named 'nest'",
     "output_type": "error",
     "traceback": [
      "\u001b[0;31m---------------------------------------------------------------------------\u001b[0m",
      "\u001b[0;31mModuleNotFoundError\u001b[0m                       Traceback (most recent call last)",
      "Cell \u001b[0;32mIn[2], line 1\u001b[0m\n\u001b[0;32m----> 1\u001b[0m \u001b[38;5;28;01mimport\u001b[39;00m \u001b[38;5;21;01mpyNN\u001b[39;00m\u001b[38;5;21;01m.\u001b[39;00m\u001b[38;5;21;01mnest\u001b[39;00m \u001b[38;5;28;01mas\u001b[39;00m \u001b[38;5;21;01msim\u001b[39;00m\n",
      "File \u001b[0;32m~/anaconda3/lib/python3.11/site-packages/pyNN/nest/__init__.py:19\u001b[0m\n\u001b[1;32m     17\u001b[0m \u001b[38;5;28;01mfrom\u001b[39;00m \u001b[38;5;21;01m.\u001b[39;00m\u001b[38;5;21;01m.\u001b[39;00m\u001b[38;5;21;01mstandardmodels\u001b[39;00m \u001b[38;5;28;01mimport\u001b[39;00m StandardCellType\n\u001b[1;32m     18\u001b[0m \u001b[38;5;28;01mfrom\u001b[39;00m \u001b[38;5;21;01m.\u001b[39;00m\u001b[38;5;21;01m.\u001b[39;00m\u001b[38;5;21;01mrandom\u001b[39;00m \u001b[38;5;28;01mimport\u001b[39;00m NumpyRNG, GSLRNG, RandomDistribution           \u001b[38;5;66;03m# noqa: F401\u001b[39;00m\n\u001b[0;32m---> 19\u001b[0m \u001b[38;5;28;01mfrom\u001b[39;00m \u001b[38;5;21;01m.\u001b[39;00m\u001b[38;5;21;01mcells\u001b[39;00m \u001b[38;5;28;01mimport\u001b[39;00m NativeCellType, native_cell_type                 \u001b[38;5;66;03m# noqa: F401\u001b[39;00m\n\u001b[1;32m     20\u001b[0m \u001b[38;5;28;01mfrom\u001b[39;00m \u001b[38;5;21;01m.\u001b[39;00m\u001b[38;5;21;01melectrodes\u001b[39;00m \u001b[38;5;28;01mimport\u001b[39;00m NativeElectrodeType, native_electrode_type  \u001b[38;5;66;03m# noqa: F401\u001b[39;00m\n\u001b[1;32m     21\u001b[0m \u001b[38;5;28;01mfrom\u001b[39;00m \u001b[38;5;21;01m.\u001b[39;00m\u001b[38;5;21;01msynapses\u001b[39;00m \u001b[38;5;28;01mimport\u001b[39;00m NativeSynapseType, native_synapse_type        \u001b[38;5;66;03m# noqa: F401\u001b[39;00m\n",
      "File \u001b[0;32m~/anaconda3/lib/python3.11/site-packages/pyNN/nest/cells.py:11\u001b[0m\n\u001b[1;32m      9\u001b[0m \u001b[38;5;28;01mimport\u001b[39;00m \u001b[38;5;21;01mwarnings\u001b[39;00m\n\u001b[1;32m     10\u001b[0m \u001b[38;5;28;01mimport\u001b[39;00m \u001b[38;5;21;01mnumpy\u001b[39;00m \u001b[38;5;28;01mas\u001b[39;00m \u001b[38;5;21;01mnp\u001b[39;00m\n\u001b[0;32m---> 11\u001b[0m \u001b[38;5;28;01mimport\u001b[39;00m \u001b[38;5;21;01mnest\u001b[39;00m\n\u001b[1;32m     12\u001b[0m \u001b[38;5;28;01mfrom\u001b[39;00m \u001b[38;5;21;01m.\u001b[39;00m\u001b[38;5;21;01m.\u001b[39;00m\u001b[38;5;21;01mmodels\u001b[39;00m \u001b[38;5;28;01mimport\u001b[39;00m BaseCellType\n\u001b[1;32m     13\u001b[0m \u001b[38;5;28;01mfrom\u001b[39;00m \u001b[38;5;21;01m.\u001b[39;00m\u001b[38;5;21;01m.\u001b[39;00m\u001b[38;5;21;01mparameters\u001b[39;00m \u001b[38;5;28;01mimport\u001b[39;00m Sequence\n",
      "\u001b[0;31mModuleNotFoundError\u001b[0m: No module named 'nest'"
     ]
    }
   ],
   "source": [
    "import pyNN.nest as sim"
   ]
  },
  {
   "cell_type": "code",
   "execution_count": null,
   "id": "8472dfd9-63b1-4782-9535-580c9e057516",
   "metadata": {},
   "outputs": [],
   "source": []
  }
 ],
 "metadata": {
  "kernelspec": {
   "display_name": "Python 3 (ipykernel)",
   "language": "python",
   "name": "python3"
  },
  "language_info": {
   "codemirror_mode": {
    "name": "ipython",
    "version": 3
   },
   "file_extension": ".py",
   "mimetype": "text/x-python",
   "name": "python",
   "nbconvert_exporter": "python",
   "pygments_lexer": "ipython3",
   "version": "3.11.5"
  }
 },
 "nbformat": 4,
 "nbformat_minor": 5
}
