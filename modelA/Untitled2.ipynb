{
 "cells": [
  {
   "cell_type": "markdown",
   "id": "a952bebc-3dc9-4968-a17c-8d9fe594f81e",
   "metadata": {},
   "source": [
    "#GRID SEARCH USING BRIAN"
   ]
  },
  {
   "cell_type": "code",
   "execution_count": null,
   "id": "43bd9059-8261-4fc0-a20f-a9e4ada4dde9",
   "metadata": {},
   "outputs": [],
   "source": []
  }
 ],
 "metadata": {
  "kernelspec": {
   "display_name": "Python 3 (ipykernel)",
   "language": "python",
   "name": "python3"
  },
  "language_info": {
   "codemirror_mode": {
    "name": "ipython",
    "version": 3
   },
   "file_extension": ".py",
   "mimetype": "text/x-python",
   "name": "python",
   "nbconvert_exporter": "python",
   "pygments_lexer": "ipython3",
   "version": "3.11.5"
  }
 },
 "nbformat": 4,
 "nbformat_minor": 5
}
